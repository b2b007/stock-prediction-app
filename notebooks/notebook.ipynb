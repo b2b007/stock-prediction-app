{
 "cells": [
  {
   "cell_type": "code",
   "execution_count": 1,
   "id": "f90120b8",
   "metadata": {},
   "outputs": [],
   "source": [
    "import pandas as pd"
   ]
  },
  {
   "cell_type": "code",
   "execution_count": 5,
   "id": "20e32578",
   "metadata": {},
   "outputs": [],
   "source": [
    "df1 = pd.read_csv('../AAPL2021-04-28.csv')"
   ]
  },
  {
   "cell_type": "code",
   "execution_count": 6,
   "id": "ae6c470f",
   "metadata": {},
   "outputs": [
    {
     "name": "stdout",
     "output_type": "stream",
     "text": [
      "<class 'pandas.core.frame.DataFrame'>\n",
      "RangeIndex: 1591 entries, 0 to 1590\n",
      "Data columns (total 7 columns):\n",
      " #   Column     Non-Null Count  Dtype  \n",
      "---  ------     --------------  -----  \n",
      " 0   Date       1591 non-null   object \n",
      " 1   Open       1591 non-null   float64\n",
      " 2   High       1591 non-null   float64\n",
      " 3   Low        1591 non-null   float64\n",
      " 4   Close      1591 non-null   float64\n",
      " 5   Adj Close  1591 non-null   float64\n",
      " 6   Volume     1591 non-null   int64  \n",
      "dtypes: float64(5), int64(1), object(1)\n",
      "memory usage: 87.1+ KB\n"
     ]
    }
   ],
   "source": [
    "df1.info()"
   ]
  },
  {
   "cell_type": "code",
   "execution_count": 8,
   "id": "2034a83f",
   "metadata": {},
   "outputs": [],
   "source": [
    "df1.Date = df1.Date.astype('datetime64[ns]')"
   ]
  },
  {
   "cell_type": "code",
   "execution_count": 10,
   "id": "696a219b",
   "metadata": {},
   "outputs": [
    {
     "name": "stdout",
     "output_type": "stream",
     "text": [
      "<class 'pandas.core.frame.DataFrame'>\n",
      "RangeIndex: 1591 entries, 0 to 1590\n",
      "Data columns (total 7 columns):\n",
      " #   Column     Non-Null Count  Dtype         \n",
      "---  ------     --------------  -----         \n",
      " 0   Date       1591 non-null   datetime64[ns]\n",
      " 1   Open       1591 non-null   float64       \n",
      " 2   High       1591 non-null   float64       \n",
      " 3   Low        1591 non-null   float64       \n",
      " 4   Close      1591 non-null   float64       \n",
      " 5   Adj Close  1591 non-null   float64       \n",
      " 6   Volume     1591 non-null   int64         \n",
      "dtypes: datetime64[ns](1), float64(5), int64(1)\n",
      "memory usage: 87.1 KB\n"
     ]
    }
   ],
   "source": [
    "df1.info()"
   ]
  },
  {
   "cell_type": "code",
   "execution_count": 11,
   "id": "c45f2857",
   "metadata": {},
   "outputs": [],
   "source": [
    "df1 = df1.set_index('Date')"
   ]
  },
  {
   "cell_type": "code",
   "execution_count": 13,
   "id": "0ce4c084",
   "metadata": {},
   "outputs": [
    {
     "data": {
      "text/html": [
       "<div>\n",
       "<style scoped>\n",
       "    .dataframe tbody tr th:only-of-type {\n",
       "        vertical-align: middle;\n",
       "    }\n",
       "\n",
       "    .dataframe tbody tr th {\n",
       "        vertical-align: top;\n",
       "    }\n",
       "\n",
       "    .dataframe thead th {\n",
       "        text-align: right;\n",
       "    }\n",
       "</style>\n",
       "<table border=\"1\" class=\"dataframe\">\n",
       "  <thead>\n",
       "    <tr style=\"text-align: right;\">\n",
       "      <th></th>\n",
       "      <th>Open</th>\n",
       "      <th>High</th>\n",
       "      <th>Low</th>\n",
       "      <th>Close</th>\n",
       "      <th>Adj Close</th>\n",
       "      <th>Volume</th>\n",
       "    </tr>\n",
       "    <tr>\n",
       "      <th>Date</th>\n",
       "      <th></th>\n",
       "      <th></th>\n",
       "      <th></th>\n",
       "      <th></th>\n",
       "      <th></th>\n",
       "      <th></th>\n",
       "    </tr>\n",
       "  </thead>\n",
       "  <tbody>\n",
       "    <tr>\n",
       "      <th>2014-12-31</th>\n",
       "      <td>28.205000</td>\n",
       "      <td>28.282499</td>\n",
       "      <td>27.552500</td>\n",
       "      <td>27.594999</td>\n",
       "      <td>25.100164</td>\n",
       "      <td>165613600</td>\n",
       "    </tr>\n",
       "    <tr>\n",
       "      <th>2015-01-02</th>\n",
       "      <td>27.847500</td>\n",
       "      <td>27.860001</td>\n",
       "      <td>26.837500</td>\n",
       "      <td>27.332500</td>\n",
       "      <td>24.861401</td>\n",
       "      <td>212818400</td>\n",
       "    </tr>\n",
       "    <tr>\n",
       "      <th>2015-01-05</th>\n",
       "      <td>27.072500</td>\n",
       "      <td>27.162500</td>\n",
       "      <td>26.352501</td>\n",
       "      <td>26.562500</td>\n",
       "      <td>24.161013</td>\n",
       "      <td>257142000</td>\n",
       "    </tr>\n",
       "    <tr>\n",
       "      <th>2015-01-06</th>\n",
       "      <td>26.635000</td>\n",
       "      <td>26.857500</td>\n",
       "      <td>26.157499</td>\n",
       "      <td>26.565001</td>\n",
       "      <td>24.163294</td>\n",
       "      <td>263188400</td>\n",
       "    </tr>\n",
       "    <tr>\n",
       "      <th>2015-01-07</th>\n",
       "      <td>26.799999</td>\n",
       "      <td>27.049999</td>\n",
       "      <td>26.674999</td>\n",
       "      <td>26.937500</td>\n",
       "      <td>24.502111</td>\n",
       "      <td>160423600</td>\n",
       "    </tr>\n",
       "    <tr>\n",
       "      <th>...</th>\n",
       "      <td>...</td>\n",
       "      <td>...</td>\n",
       "      <td>...</td>\n",
       "      <td>...</td>\n",
       "      <td>...</td>\n",
       "      <td>...</td>\n",
       "    </tr>\n",
       "    <tr>\n",
       "      <th>2021-04-21</th>\n",
       "      <td>132.360001</td>\n",
       "      <td>133.750000</td>\n",
       "      <td>131.300003</td>\n",
       "      <td>133.500000</td>\n",
       "      <td>133.500000</td>\n",
       "      <td>68847100</td>\n",
       "    </tr>\n",
       "    <tr>\n",
       "      <th>2021-04-22</th>\n",
       "      <td>133.039993</td>\n",
       "      <td>134.149994</td>\n",
       "      <td>131.410004</td>\n",
       "      <td>131.940002</td>\n",
       "      <td>131.940002</td>\n",
       "      <td>84566500</td>\n",
       "    </tr>\n",
       "    <tr>\n",
       "      <th>2021-04-23</th>\n",
       "      <td>132.160004</td>\n",
       "      <td>135.119995</td>\n",
       "      <td>132.160004</td>\n",
       "      <td>134.320007</td>\n",
       "      <td>134.320007</td>\n",
       "      <td>78657500</td>\n",
       "    </tr>\n",
       "    <tr>\n",
       "      <th>2021-04-26</th>\n",
       "      <td>134.830002</td>\n",
       "      <td>135.059998</td>\n",
       "      <td>133.559998</td>\n",
       "      <td>134.720001</td>\n",
       "      <td>134.720001</td>\n",
       "      <td>66905100</td>\n",
       "    </tr>\n",
       "    <tr>\n",
       "      <th>2021-04-27</th>\n",
       "      <td>135.009995</td>\n",
       "      <td>135.410004</td>\n",
       "      <td>134.110001</td>\n",
       "      <td>134.389999</td>\n",
       "      <td>134.389999</td>\n",
       "      <td>65752700</td>\n",
       "    </tr>\n",
       "  </tbody>\n",
       "</table>\n",
       "<p>1591 rows × 6 columns</p>\n",
       "</div>"
      ],
      "text/plain": [
       "                  Open        High         Low       Close   Adj Close  \\\n",
       "Date                                                                     \n",
       "2014-12-31   28.205000   28.282499   27.552500   27.594999   25.100164   \n",
       "2015-01-02   27.847500   27.860001   26.837500   27.332500   24.861401   \n",
       "2015-01-05   27.072500   27.162500   26.352501   26.562500   24.161013   \n",
       "2015-01-06   26.635000   26.857500   26.157499   26.565001   24.163294   \n",
       "2015-01-07   26.799999   27.049999   26.674999   26.937500   24.502111   \n",
       "...                ...         ...         ...         ...         ...   \n",
       "2021-04-21  132.360001  133.750000  131.300003  133.500000  133.500000   \n",
       "2021-04-22  133.039993  134.149994  131.410004  131.940002  131.940002   \n",
       "2021-04-23  132.160004  135.119995  132.160004  134.320007  134.320007   \n",
       "2021-04-26  134.830002  135.059998  133.559998  134.720001  134.720001   \n",
       "2021-04-27  135.009995  135.410004  134.110001  134.389999  134.389999   \n",
       "\n",
       "               Volume  \n",
       "Date                   \n",
       "2014-12-31  165613600  \n",
       "2015-01-02  212818400  \n",
       "2015-01-05  257142000  \n",
       "2015-01-06  263188400  \n",
       "2015-01-07  160423600  \n",
       "...               ...  \n",
       "2021-04-21   68847100  \n",
       "2021-04-22   84566500  \n",
       "2021-04-23   78657500  \n",
       "2021-04-26   66905100  \n",
       "2021-04-27   65752700  \n",
       "\n",
       "[1591 rows x 6 columns]"
      ]
     },
     "execution_count": 13,
     "metadata": {},
     "output_type": "execute_result"
    }
   ],
   "source": [
    "df1"
   ]
  },
  {
   "cell_type": "code",
   "execution_count": null,
   "id": "1288f5fe",
   "metadata": {},
   "outputs": [],
   "source": []
  }
 ],
 "metadata": {
  "kernelspec": {
   "display_name": "Python 3",
   "language": "python",
   "name": "python3"
  },
  "language_info": {
   "codemirror_mode": {
    "name": "ipython",
    "version": 3
   },
   "file_extension": ".py",
   "mimetype": "text/x-python",
   "name": "python",
   "nbconvert_exporter": "python",
   "pygments_lexer": "ipython3",
   "version": "3.8.5"
  }
 },
 "nbformat": 4,
 "nbformat_minor": 5
}
